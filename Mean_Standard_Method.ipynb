{
 "cells": [
  {
   "cell_type": "code",
   "execution_count": 57,
   "id": "7c6c948f",
   "metadata": {},
   "outputs": [],
   "source": [
    "import pandas as pd\n",
    "import numpy as np\n",
    "import warnings\n",
    "warnings.filterwarnings(\"ignore\")"
   ]
  },
  {
   "cell_type": "code",
   "execution_count": 58,
   "id": "84c61d29",
   "metadata": {},
   "outputs": [],
   "source": [
    "df = pd.read_csv(r\"C:\\Users\\venka\\Downloads\\archive (3)\\SOCR-HeightWeight.csv\")"
   ]
  },
  {
   "cell_type": "code",
   "execution_count": 59,
   "id": "5dc59a84",
   "metadata": {},
   "outputs": [
    {
     "data": {
      "text/html": [
       "<div>\n",
       "<style scoped>\n",
       "    .dataframe tbody tr th:only-of-type {\n",
       "        vertical-align: middle;\n",
       "    }\n",
       "\n",
       "    .dataframe tbody tr th {\n",
       "        vertical-align: top;\n",
       "    }\n",
       "\n",
       "    .dataframe thead th {\n",
       "        text-align: right;\n",
       "    }\n",
       "</style>\n",
       "<table border=\"1\" class=\"dataframe\">\n",
       "  <thead>\n",
       "    <tr style=\"text-align: right;\">\n",
       "      <th></th>\n",
       "      <th>Index</th>\n",
       "      <th>Height(Inches)</th>\n",
       "      <th>Weight(Pounds)</th>\n",
       "    </tr>\n",
       "  </thead>\n",
       "  <tbody>\n",
       "    <tr>\n",
       "      <th>0</th>\n",
       "      <td>1</td>\n",
       "      <td>65.78331</td>\n",
       "      <td>112.9925</td>\n",
       "    </tr>\n",
       "    <tr>\n",
       "      <th>1</th>\n",
       "      <td>2</td>\n",
       "      <td>71.51521</td>\n",
       "      <td>136.4873</td>\n",
       "    </tr>\n",
       "    <tr>\n",
       "      <th>2</th>\n",
       "      <td>3</td>\n",
       "      <td>69.39874</td>\n",
       "      <td>153.0269</td>\n",
       "    </tr>\n",
       "    <tr>\n",
       "      <th>3</th>\n",
       "      <td>4</td>\n",
       "      <td>68.21660</td>\n",
       "      <td>142.3354</td>\n",
       "    </tr>\n",
       "    <tr>\n",
       "      <th>4</th>\n",
       "      <td>5</td>\n",
       "      <td>67.78781</td>\n",
       "      <td>144.2971</td>\n",
       "    </tr>\n",
       "    <tr>\n",
       "      <th>...</th>\n",
       "      <td>...</td>\n",
       "      <td>...</td>\n",
       "      <td>...</td>\n",
       "    </tr>\n",
       "    <tr>\n",
       "      <th>24995</th>\n",
       "      <td>24996</td>\n",
       "      <td>69.50215</td>\n",
       "      <td>118.0312</td>\n",
       "    </tr>\n",
       "    <tr>\n",
       "      <th>24996</th>\n",
       "      <td>24997</td>\n",
       "      <td>64.54826</td>\n",
       "      <td>120.1932</td>\n",
       "    </tr>\n",
       "    <tr>\n",
       "      <th>24997</th>\n",
       "      <td>24998</td>\n",
       "      <td>64.69855</td>\n",
       "      <td>118.2655</td>\n",
       "    </tr>\n",
       "    <tr>\n",
       "      <th>24998</th>\n",
       "      <td>24999</td>\n",
       "      <td>67.52918</td>\n",
       "      <td>132.2682</td>\n",
       "    </tr>\n",
       "    <tr>\n",
       "      <th>24999</th>\n",
       "      <td>25000</td>\n",
       "      <td>68.87761</td>\n",
       "      <td>124.8742</td>\n",
       "    </tr>\n",
       "  </tbody>\n",
       "</table>\n",
       "<p>25000 rows × 3 columns</p>\n",
       "</div>"
      ],
      "text/plain": [
       "       Index  Height(Inches)  Weight(Pounds)\n",
       "0          1        65.78331        112.9925\n",
       "1          2        71.51521        136.4873\n",
       "2          3        69.39874        153.0269\n",
       "3          4        68.21660        142.3354\n",
       "4          5        67.78781        144.2971\n",
       "...      ...             ...             ...\n",
       "24995  24996        69.50215        118.0312\n",
       "24996  24997        64.54826        120.1932\n",
       "24997  24998        64.69855        118.2655\n",
       "24998  24999        67.52918        132.2682\n",
       "24999  25000        68.87761        124.8742\n",
       "\n",
       "[25000 rows x 3 columns]"
      ]
     },
     "execution_count": 59,
     "metadata": {},
     "output_type": "execute_result"
    }
   ],
   "source": [
    "df"
   ]
  },
  {
   "cell_type": "code",
   "execution_count": 61,
   "id": "953f67f4",
   "metadata": {},
   "outputs": [
    {
     "data": {
      "text/html": [
       "<div>\n",
       "<style scoped>\n",
       "    .dataframe tbody tr th:only-of-type {\n",
       "        vertical-align: middle;\n",
       "    }\n",
       "\n",
       "    .dataframe tbody tr th {\n",
       "        vertical-align: top;\n",
       "    }\n",
       "\n",
       "    .dataframe thead th {\n",
       "        text-align: right;\n",
       "    }\n",
       "</style>\n",
       "<table border=\"1\" class=\"dataframe\">\n",
       "  <thead>\n",
       "    <tr style=\"text-align: right;\">\n",
       "      <th></th>\n",
       "      <th>Height(Inches)</th>\n",
       "      <th>Weight(Pounds)</th>\n",
       "    </tr>\n",
       "  </thead>\n",
       "  <tbody>\n",
       "    <tr>\n",
       "      <th>0</th>\n",
       "      <td>65.78331</td>\n",
       "      <td>112.9925</td>\n",
       "    </tr>\n",
       "    <tr>\n",
       "      <th>1</th>\n",
       "      <td>71.51521</td>\n",
       "      <td>136.4873</td>\n",
       "    </tr>\n",
       "    <tr>\n",
       "      <th>2</th>\n",
       "      <td>69.39874</td>\n",
       "      <td>153.0269</td>\n",
       "    </tr>\n",
       "    <tr>\n",
       "      <th>3</th>\n",
       "      <td>68.21660</td>\n",
       "      <td>142.3354</td>\n",
       "    </tr>\n",
       "    <tr>\n",
       "      <th>4</th>\n",
       "      <td>67.78781</td>\n",
       "      <td>144.2971</td>\n",
       "    </tr>\n",
       "    <tr>\n",
       "      <th>...</th>\n",
       "      <td>...</td>\n",
       "      <td>...</td>\n",
       "    </tr>\n",
       "    <tr>\n",
       "      <th>24995</th>\n",
       "      <td>69.50215</td>\n",
       "      <td>118.0312</td>\n",
       "    </tr>\n",
       "    <tr>\n",
       "      <th>24996</th>\n",
       "      <td>64.54826</td>\n",
       "      <td>120.1932</td>\n",
       "    </tr>\n",
       "    <tr>\n",
       "      <th>24997</th>\n",
       "      <td>64.69855</td>\n",
       "      <td>118.2655</td>\n",
       "    </tr>\n",
       "    <tr>\n",
       "      <th>24998</th>\n",
       "      <td>67.52918</td>\n",
       "      <td>132.2682</td>\n",
       "    </tr>\n",
       "    <tr>\n",
       "      <th>24999</th>\n",
       "      <td>68.87761</td>\n",
       "      <td>124.8742</td>\n",
       "    </tr>\n",
       "  </tbody>\n",
       "</table>\n",
       "<p>25000 rows × 2 columns</p>\n",
       "</div>"
      ],
      "text/plain": [
       "       Height(Inches)  Weight(Pounds)\n",
       "0            65.78331        112.9925\n",
       "1            71.51521        136.4873\n",
       "2            69.39874        153.0269\n",
       "3            68.21660        142.3354\n",
       "4            67.78781        144.2971\n",
       "...               ...             ...\n",
       "24995        69.50215        118.0312\n",
       "24996        64.54826        120.1932\n",
       "24997        64.69855        118.2655\n",
       "24998        67.52918        132.2682\n",
       "24999        68.87761        124.8742\n",
       "\n",
       "[25000 rows x 2 columns]"
      ]
     },
     "execution_count": 61,
     "metadata": {},
     "output_type": "execute_result"
    }
   ],
   "source": [
    "df.drop(\"Index\", axis =1)"
   ]
  },
  {
   "cell_type": "code",
   "execution_count": 62,
   "id": "317c781f",
   "metadata": {},
   "outputs": [],
   "source": [
    "df.drop(\"Index\", axis = 1, inplace = True)"
   ]
  },
  {
   "cell_type": "code",
   "execution_count": 63,
   "id": "947159b0",
   "metadata": {},
   "outputs": [
    {
     "data": {
      "text/html": [
       "<div>\n",
       "<style scoped>\n",
       "    .dataframe tbody tr th:only-of-type {\n",
       "        vertical-align: middle;\n",
       "    }\n",
       "\n",
       "    .dataframe tbody tr th {\n",
       "        vertical-align: top;\n",
       "    }\n",
       "\n",
       "    .dataframe thead th {\n",
       "        text-align: right;\n",
       "    }\n",
       "</style>\n",
       "<table border=\"1\" class=\"dataframe\">\n",
       "  <thead>\n",
       "    <tr style=\"text-align: right;\">\n",
       "      <th></th>\n",
       "      <th>Height(Inches)</th>\n",
       "      <th>Weight(Pounds)</th>\n",
       "    </tr>\n",
       "  </thead>\n",
       "  <tbody>\n",
       "    <tr>\n",
       "      <th>0</th>\n",
       "      <td>65.78331</td>\n",
       "      <td>112.9925</td>\n",
       "    </tr>\n",
       "    <tr>\n",
       "      <th>1</th>\n",
       "      <td>71.51521</td>\n",
       "      <td>136.4873</td>\n",
       "    </tr>\n",
       "    <tr>\n",
       "      <th>2</th>\n",
       "      <td>69.39874</td>\n",
       "      <td>153.0269</td>\n",
       "    </tr>\n",
       "    <tr>\n",
       "      <th>3</th>\n",
       "      <td>68.21660</td>\n",
       "      <td>142.3354</td>\n",
       "    </tr>\n",
       "    <tr>\n",
       "      <th>4</th>\n",
       "      <td>67.78781</td>\n",
       "      <td>144.2971</td>\n",
       "    </tr>\n",
       "    <tr>\n",
       "      <th>...</th>\n",
       "      <td>...</td>\n",
       "      <td>...</td>\n",
       "    </tr>\n",
       "    <tr>\n",
       "      <th>24995</th>\n",
       "      <td>69.50215</td>\n",
       "      <td>118.0312</td>\n",
       "    </tr>\n",
       "    <tr>\n",
       "      <th>24996</th>\n",
       "      <td>64.54826</td>\n",
       "      <td>120.1932</td>\n",
       "    </tr>\n",
       "    <tr>\n",
       "      <th>24997</th>\n",
       "      <td>64.69855</td>\n",
       "      <td>118.2655</td>\n",
       "    </tr>\n",
       "    <tr>\n",
       "      <th>24998</th>\n",
       "      <td>67.52918</td>\n",
       "      <td>132.2682</td>\n",
       "    </tr>\n",
       "    <tr>\n",
       "      <th>24999</th>\n",
       "      <td>68.87761</td>\n",
       "      <td>124.8742</td>\n",
       "    </tr>\n",
       "  </tbody>\n",
       "</table>\n",
       "<p>25000 rows × 2 columns</p>\n",
       "</div>"
      ],
      "text/plain": [
       "       Height(Inches)  Weight(Pounds)\n",
       "0            65.78331        112.9925\n",
       "1            71.51521        136.4873\n",
       "2            69.39874        153.0269\n",
       "3            68.21660        142.3354\n",
       "4            67.78781        144.2971\n",
       "...               ...             ...\n",
       "24995        69.50215        118.0312\n",
       "24996        64.54826        120.1932\n",
       "24997        64.69855        118.2655\n",
       "24998        67.52918        132.2682\n",
       "24999        68.87761        124.8742\n",
       "\n",
       "[25000 rows x 2 columns]"
      ]
     },
     "execution_count": 63,
     "metadata": {},
     "output_type": "execute_result"
    }
   ],
   "source": [
    "df"
   ]
  },
  {
   "cell_type": "code",
   "execution_count": 66,
   "id": "4a500421",
   "metadata": {},
   "outputs": [
    {
     "data": {
      "text/plain": [
       "Index(['Height(Inches)', 'Weight(Pounds)'], dtype='object')"
      ]
     },
     "execution_count": 66,
     "metadata": {},
     "output_type": "execute_result"
    }
   ],
   "source": [
    "df.columns"
   ]
  },
  {
   "cell_type": "code",
   "execution_count": 67,
   "id": "4363e614",
   "metadata": {},
   "outputs": [],
   "source": [
    "df.columns = [\"Height\", \"Weight\"]"
   ]
  },
  {
   "cell_type": "code",
   "execution_count": 10,
   "id": "e18b49ec",
   "metadata": {},
   "outputs": [
    {
     "data": {
      "text/html": [
       "<div>\n",
       "<style scoped>\n",
       "    .dataframe tbody tr th:only-of-type {\n",
       "        vertical-align: middle;\n",
       "    }\n",
       "\n",
       "    .dataframe tbody tr th {\n",
       "        vertical-align: top;\n",
       "    }\n",
       "\n",
       "    .dataframe thead th {\n",
       "        text-align: right;\n",
       "    }\n",
       "</style>\n",
       "<table border=\"1\" class=\"dataframe\">\n",
       "  <thead>\n",
       "    <tr style=\"text-align: right;\">\n",
       "      <th></th>\n",
       "      <th>Height</th>\n",
       "      <th>Weight</th>\n",
       "    </tr>\n",
       "  </thead>\n",
       "  <tbody>\n",
       "    <tr>\n",
       "      <th>0</th>\n",
       "      <td>65.78331</td>\n",
       "      <td>112.9925</td>\n",
       "    </tr>\n",
       "    <tr>\n",
       "      <th>1</th>\n",
       "      <td>71.51521</td>\n",
       "      <td>136.4873</td>\n",
       "    </tr>\n",
       "    <tr>\n",
       "      <th>2</th>\n",
       "      <td>69.39874</td>\n",
       "      <td>153.0269</td>\n",
       "    </tr>\n",
       "    <tr>\n",
       "      <th>3</th>\n",
       "      <td>68.21660</td>\n",
       "      <td>142.3354</td>\n",
       "    </tr>\n",
       "    <tr>\n",
       "      <th>4</th>\n",
       "      <td>67.78781</td>\n",
       "      <td>144.2971</td>\n",
       "    </tr>\n",
       "    <tr>\n",
       "      <th>...</th>\n",
       "      <td>...</td>\n",
       "      <td>...</td>\n",
       "    </tr>\n",
       "    <tr>\n",
       "      <th>24995</th>\n",
       "      <td>69.50215</td>\n",
       "      <td>118.0312</td>\n",
       "    </tr>\n",
       "    <tr>\n",
       "      <th>24996</th>\n",
       "      <td>64.54826</td>\n",
       "      <td>120.1932</td>\n",
       "    </tr>\n",
       "    <tr>\n",
       "      <th>24997</th>\n",
       "      <td>64.69855</td>\n",
       "      <td>118.2655</td>\n",
       "    </tr>\n",
       "    <tr>\n",
       "      <th>24998</th>\n",
       "      <td>67.52918</td>\n",
       "      <td>132.2682</td>\n",
       "    </tr>\n",
       "    <tr>\n",
       "      <th>24999</th>\n",
       "      <td>68.87761</td>\n",
       "      <td>124.8742</td>\n",
       "    </tr>\n",
       "  </tbody>\n",
       "</table>\n",
       "<p>25000 rows × 2 columns</p>\n",
       "</div>"
      ],
      "text/plain": [
       "         Height    Weight\n",
       "0      65.78331  112.9925\n",
       "1      71.51521  136.4873\n",
       "2      69.39874  153.0269\n",
       "3      68.21660  142.3354\n",
       "4      67.78781  144.2971\n",
       "...         ...       ...\n",
       "24995  69.50215  118.0312\n",
       "24996  64.54826  120.1932\n",
       "24997  64.69855  118.2655\n",
       "24998  67.52918  132.2682\n",
       "24999  68.87761  124.8742\n",
       "\n",
       "[25000 rows x 2 columns]"
      ]
     },
     "execution_count": 10,
     "metadata": {},
     "output_type": "execute_result"
    }
   ],
   "source": [
    "df"
   ]
  },
  {
   "cell_type": "code",
   "execution_count": 69,
   "id": "fe46413c",
   "metadata": {},
   "outputs": [],
   "source": [
    "import matplotlib.pyplot as plt\n",
    "import seaborn as sns"
   ]
  },
  {
   "cell_type": "code",
   "execution_count": 12,
   "id": "865f4f45",
   "metadata": {},
   "outputs": [
    {
     "data": {
      "image/png": "[encoded data removed]",
      "text/plain": [
       "<Figure size 640x480 with 1 Axes>"
      ]
     },
     "metadata": {},
     "output_type": "display_data"
    }
   ],
   "source": [
    "plt.boxplot(df)\n",
    "plt.show()"
   ]
  },
  {
   "cell_type": "code",
   "execution_count": 13,
   "id": "595307d9",
   "metadata": {},
   "outputs": [
    {
     "data": {
      "image/png": "[encoded data removed]",
      "text/plain": [
       "<Figure size 640x480 with 1 Axes>"
      ]
     },
     "metadata": {},
     "output_type": "display_data"
    }
   ],
   "source": [
    "plt.boxplot(df[\"Height\"])\n",
    "plt.show()"
   ]
  },
  {
   "cell_type": "code",
   "execution_count": 14,
   "id": "d8ceb261",
   "metadata": {},
   "outputs": [
    {
     "data": {
      "image/png": "[encoded data removed]",
      "text/plain": [
       "<Figure size 640x480 with 1 Axes>"
      ]
     },
     "metadata": {},
     "output_type": "display_data"
    }
   ],
   "source": [
    "plt.boxplot(df[\"Weight\"])\n",
    "plt.show()"
   ]
  },
  {
   "cell_type": "code",
   "execution_count": 16,
   "id": "09cb85d1",
   "metadata": {},
   "outputs": [
    {
     "data": {
      "text/plain": [
       "<AxesSubplot:xlabel='Height'>"
      ]
     },
     "execution_count": 16,
     "metadata": {},
     "output_type": "execute_result"
    },
    {
     "data": {
      "image/png": "[encoded data removed]",
      "text/plain": [
       "<Figure size 640x480 with 1 Axes>"
      ]
     },
     "metadata": {},
     "output_type": "display_data"
    }
   ],
   "source": [
    "sns.boxplot(df[\"Height\"])\n"
   ]
  },
  {
   "cell_type": "code",
   "execution_count": 17,
   "id": "d4c10a7e",
   "metadata": {},
   "outputs": [
    {
     "data": {
      "text/plain": [
       "<AxesSubplot:xlabel='Weight'>"
      ]
     },
     "execution_count": 17,
     "metadata": {},
     "output_type": "execute_result"
    },
    {
     "data": {
      "image/png": "[encoded data removed]",
      "text/plain": [
       "<Figure size 640x480 with 1 Axes>"
      ]
     },
     "metadata": {},
     "output_type": "display_data"
    }
   ],
   "source": [
    "sns.boxplot(df[\"Weight\"])"
   ]
  },
  {
   "cell_type": "code",
   "execution_count": 18,
   "id": "299d2b3f",
   "metadata": {},
   "outputs": [
    {
     "data": {
      "text/plain": [
       "<AxesSubplot:xlabel='Weight'>"
      ]
     },
     "execution_count": 18,
     "metadata": {},
     "output_type": "execute_result"
    },
    {
     "data": {
      "image/png": "[encoded data removed]",
      "text/plain": [
       "<Figure size 640x480 with 1 Axes>"
      ]
     },
     "metadata": {},
     "output_type": "display_data"
    }
   ],
   "source": [
    "sns.boxplot(df[\"Height\"])\n",
    "sns.boxplot(df[\"Weight\"])"
   ]
  },
  {
   "cell_type": "markdown",
   "id": "43d630cf",
   "metadata": {},
   "source": [
    "# Finding Distribution"
   ]
  },
  {
   "cell_type": "code",
   "execution_count": 23,
   "id": "56e6f56f",
   "metadata": {},
   "outputs": [
    {
     "data": {
      "image/png": "[encoded data removed]",
      "text/plain": [
       "<Figure size 640x480 with 1 Axes>"
      ]
     },
     "metadata": {},
     "output_type": "display_data"
    }
   ],
   "source": [
    "plt.hist(df[\"Height\"])\n",
    "plt.show()"
   ]
  },
  {
   "cell_type": "code",
   "execution_count": 22,
   "id": "07a1b097",
   "metadata": {},
   "outputs": [
    {
     "data": {
      "image/png": "[encoded data removed]",
      "text/plain": [
       "<Figure size 640x480 with 1 Axes>"
      ]
     },
     "metadata": {},
     "output_type": "display_data"
    }
   ],
   "source": [
    "plt.hist(df[\"Height\"], bins = 30, rwidth = 0.90)\n",
    "plt.show()"
   ]
  },
  {
   "cell_type": "code",
   "execution_count": 24,
   "id": "d27fbf88",
   "metadata": {},
   "outputs": [
    {
     "data": {
      "image/png": "[encoded data removed]",
      "text/plain": [
       "<Figure size 640x480 with 1 Axes>"
      ]
     },
     "metadata": {},
     "output_type": "display_data"
    }
   ],
   "source": [
    "plt.hist(df[\"Height\"], bins = 50, rwidth = 0.90)\n",
    "plt.show()"
   ]
  },
  {
   "cell_type": "code",
   "execution_count": 25,
   "id": "dc50bebc",
   "metadata": {},
   "outputs": [
    {
     "data": {
      "text/plain": [
       "-0.00565797936693913"
      ]
     },
     "execution_count": 25,
     "metadata": {},
     "output_type": "execute_result"
    }
   ],
   "source": [
    "df[\"Height\"].skew()"
   ]
  },
  {
   "cell_type": "code",
   "execution_count": 26,
   "id": "202dadae",
   "metadata": {},
   "outputs": [
    {
     "data": {
      "text/plain": [
       "-0.0"
      ]
     },
     "execution_count": 26,
     "metadata": {},
     "output_type": "execute_result"
    }
   ],
   "source": [
    "df[\"Height\"].skew().round()"
   ]
  },
  {
   "cell_type": "code",
   "execution_count": 27,
   "id": "a32ea7df",
   "metadata": {},
   "outputs": [
    {
     "data": {
      "text/plain": [
       "67.99311359679979"
      ]
     },
     "execution_count": 27,
     "metadata": {},
     "output_type": "execute_result"
    }
   ],
   "source": [
    "df[\"Height\"].mean()"
   ]
  },
  {
   "cell_type": "code",
   "execution_count": 28,
   "id": "4344b2e8",
   "metadata": {},
   "outputs": [],
   "source": [
    "m = df[\"Height\"].mean()"
   ]
  },
  {
   "cell_type": "code",
   "execution_count": 29,
   "id": "6173b3a3",
   "metadata": {},
   "outputs": [
    {
     "data": {
      "text/plain": [
       "67.99311359679979"
      ]
     },
     "execution_count": 29,
     "metadata": {},
     "output_type": "execute_result"
    }
   ],
   "source": [
    "m"
   ]
  },
  {
   "cell_type": "code",
   "execution_count": 30,
   "id": "7f2baacd",
   "metadata": {},
   "outputs": [
    {
     "data": {
      "text/plain": [
       "1.901678771205604"
      ]
     },
     "execution_count": 30,
     "metadata": {},
     "output_type": "execute_result"
    }
   ],
   "source": [
    "df[\"Height\"].std()"
   ]
  },
  {
   "cell_type": "code",
   "execution_count": 31,
   "id": "0344348c",
   "metadata": {},
   "outputs": [],
   "source": [
    "s = df[\"Height\"].std()"
   ]
  },
  {
   "cell_type": "code",
   "execution_count": 32,
   "id": "1c0a2404",
   "metadata": {},
   "outputs": [
    {
     "data": {
      "text/plain": [
       "1.901678771205604"
      ]
     },
     "execution_count": 32,
     "metadata": {},
     "output_type": "execute_result"
    }
   ],
   "source": [
    "s"
   ]
  },
  {
   "cell_type": "code",
   "execution_count": 33,
   "id": "b3ced1b7",
   "metadata": {},
   "outputs": [],
   "source": [
    "lower = m - 3*s"
   ]
  },
  {
   "cell_type": "code",
   "execution_count": 34,
   "id": "60a1812c",
   "metadata": {},
   "outputs": [
    {
     "data": {
      "text/plain": [
       "62.28807728318297"
      ]
     },
     "execution_count": 34,
     "metadata": {},
     "output_type": "execute_result"
    }
   ],
   "source": [
    "lower"
   ]
  },
  {
   "cell_type": "code",
   "execution_count": 35,
   "id": "a1c3f8ce",
   "metadata": {},
   "outputs": [],
   "source": [
    "upper = m + 3*s"
   ]
  },
  {
   "cell_type": "code",
   "execution_count": 36,
   "id": "8cc3dd95",
   "metadata": {},
   "outputs": [
    {
     "data": {
      "text/plain": [
       "73.6981499104166"
      ]
     },
     "execution_count": 36,
     "metadata": {},
     "output_type": "execute_result"
    }
   ],
   "source": [
    "upper"
   ]
  },
  {
   "cell_type": "code",
   "execution_count": 37,
   "id": "453f68b4",
   "metadata": {},
   "outputs": [
    {
     "data": {
      "text/plain": [
       "0        False\n",
       "1        False\n",
       "2        False\n",
       "3        False\n",
       "4        False\n",
       "         ...  \n",
       "24995    False\n",
       "24996    False\n",
       "24997    False\n",
       "24998    False\n",
       "24999    False\n",
       "Name: Height, Length: 25000, dtype: bool"
      ]
     },
     "execution_count": 37,
     "metadata": {},
     "output_type": "execute_result"
    }
   ],
   "source": [
    "df[\"Height\"] < lower"
   ]
  },
  {
   "cell_type": "code",
   "execution_count": 38,
   "id": "3be39129",
   "metadata": {},
   "outputs": [
    {
     "data": {
      "text/html": [
       "<div>\n",
       "<style scoped>\n",
       "    .dataframe tbody tr th:only-of-type {\n",
       "        vertical-align: middle;\n",
       "    }\n",
       "\n",
       "    .dataframe tbody tr th {\n",
       "        vertical-align: top;\n",
       "    }\n",
       "\n",
       "    .dataframe thead th {\n",
       "        text-align: right;\n",
       "    }\n",
       "</style>\n",
       "<table border=\"1\" class=\"dataframe\">\n",
       "  <thead>\n",
       "    <tr style=\"text-align: right;\">\n",
       "      <th></th>\n",
       "      <th>Height</th>\n",
       "      <th>Weight</th>\n",
       "    </tr>\n",
       "  </thead>\n",
       "  <tbody>\n",
       "    <tr>\n",
       "      <th>412</th>\n",
       "      <td>62.01666</td>\n",
       "      <td>109.08480</td>\n",
       "    </tr>\n",
       "    <tr>\n",
       "      <th>2651</th>\n",
       "      <td>60.61265</td>\n",
       "      <td>88.04646</td>\n",
       "    </tr>\n",
       "    <tr>\n",
       "      <th>3696</th>\n",
       "      <td>61.89340</td>\n",
       "      <td>95.74545</td>\n",
       "    </tr>\n",
       "    <tr>\n",
       "      <th>5641</th>\n",
       "      <td>60.86340</td>\n",
       "      <td>106.19390</td>\n",
       "    </tr>\n",
       "    <tr>\n",
       "      <th>6405</th>\n",
       "      <td>62.23548</td>\n",
       "      <td>94.80998</td>\n",
       "    </tr>\n",
       "    <tr>\n",
       "      <th>6481</th>\n",
       "      <td>61.59011</td>\n",
       "      <td>99.81074</td>\n",
       "    </tr>\n",
       "    <tr>\n",
       "      <th>6941</th>\n",
       "      <td>61.40550</td>\n",
       "      <td>119.26520</td>\n",
       "    </tr>\n",
       "    <tr>\n",
       "      <th>9876</th>\n",
       "      <td>61.30021</td>\n",
       "      <td>120.88190</td>\n",
       "    </tr>\n",
       "    <tr>\n",
       "      <th>10240</th>\n",
       "      <td>61.93152</td>\n",
       "      <td>85.29040</td>\n",
       "    </tr>\n",
       "    <tr>\n",
       "      <th>12031</th>\n",
       "      <td>60.86977</td>\n",
       "      <td>108.86330</td>\n",
       "    </tr>\n",
       "    <tr>\n",
       "      <th>13971</th>\n",
       "      <td>60.27836</td>\n",
       "      <td>110.11380</td>\n",
       "    </tr>\n",
       "    <tr>\n",
       "      <th>14106</th>\n",
       "      <td>61.90725</td>\n",
       "      <td>78.56785</td>\n",
       "    </tr>\n",
       "    <tr>\n",
       "      <th>19198</th>\n",
       "      <td>61.82700</td>\n",
       "      <td>100.93910</td>\n",
       "    </tr>\n",
       "    <tr>\n",
       "      <th>19750</th>\n",
       "      <td>62.05222</td>\n",
       "      <td>120.43650</td>\n",
       "    </tr>\n",
       "    <tr>\n",
       "      <th>20608</th>\n",
       "      <td>60.80620</td>\n",
       "      <td>113.91450</td>\n",
       "    </tr>\n",
       "    <tr>\n",
       "      <th>22507</th>\n",
       "      <td>61.57720</td>\n",
       "      <td>96.81420</td>\n",
       "    </tr>\n",
       "    <tr>\n",
       "      <th>22945</th>\n",
       "      <td>61.92639</td>\n",
       "      <td>78.01476</td>\n",
       "    </tr>\n",
       "    <tr>\n",
       "      <th>24244</th>\n",
       "      <td>62.26498</td>\n",
       "      <td>104.13480</td>\n",
       "    </tr>\n",
       "  </tbody>\n",
       "</table>\n",
       "</div>"
      ],
      "text/plain": [
       "         Height     Weight\n",
       "412    62.01666  109.08480\n",
       "2651   60.61265   88.04646\n",
       "3696   61.89340   95.74545\n",
       "5641   60.86340  106.19390\n",
       "6405   62.23548   94.80998\n",
       "6481   61.59011   99.81074\n",
       "6941   61.40550  119.26520\n",
       "9876   61.30021  120.88190\n",
       "10240  61.93152   85.29040\n",
       "12031  60.86977  108.86330\n",
       "13971  60.27836  110.11380\n",
       "14106  61.90725   78.56785\n",
       "19198  61.82700  100.93910\n",
       "19750  62.05222  120.43650\n",
       "20608  60.80620  113.91450\n",
       "22507  61.57720   96.81420\n",
       "22945  61.92639   78.01476\n",
       "24244  62.26498  104.13480"
      ]
     },
     "execution_count": 38,
     "metadata": {},
     "output_type": "execute_result"
    }
   ],
   "source": [
    "df[ df[\"Height\"] < lower ]"
   ]
  },
  {
   "cell_type": "code",
   "execution_count": 41,
   "id": "b7c81e12",
   "metadata": {},
   "outputs": [
    {
     "data": {
      "text/plain": [
       "Height    18\n",
       "Weight    18\n",
       "dtype: int64"
      ]
     },
     "execution_count": 41,
     "metadata": {},
     "output_type": "execute_result"
    }
   ],
   "source": [
    "df[ df[\"Height\"] < lower ].count()"
   ]
  },
  {
   "cell_type": "code",
   "execution_count": 39,
   "id": "25e6d342",
   "metadata": {},
   "outputs": [
    {
     "data": {
      "text/plain": [
       "0        False\n",
       "1        False\n",
       "2        False\n",
       "3        False\n",
       "4        False\n",
       "         ...  \n",
       "24995    False\n",
       "24996    False\n",
       "24997    False\n",
       "24998    False\n",
       "24999    False\n",
       "Name: Height, Length: 25000, dtype: bool"
      ]
     },
     "execution_count": 39,
     "metadata": {},
     "output_type": "execute_result"
    }
   ],
   "source": [
    "df[\"Height\"] > upper"
   ]
  },
  {
   "cell_type": "code",
   "execution_count": 40,
   "id": "2edc658c",
   "metadata": {},
   "outputs": [
    {
     "data": {
      "text/html": [
       "<div>\n",
       "<style scoped>\n",
       "    .dataframe tbody tr th:only-of-type {\n",
       "        vertical-align: middle;\n",
       "    }\n",
       "\n",
       "    .dataframe tbody tr th {\n",
       "        vertical-align: top;\n",
       "    }\n",
       "\n",
       "    .dataframe thead th {\n",
       "        text-align: right;\n",
       "    }\n",
       "</style>\n",
       "<table border=\"1\" class=\"dataframe\">\n",
       "  <thead>\n",
       "    <tr style=\"text-align: right;\">\n",
       "      <th></th>\n",
       "      <th>Height</th>\n",
       "      <th>Weight</th>\n",
       "    </tr>\n",
       "  </thead>\n",
       "  <tbody>\n",
       "    <tr>\n",
       "      <th>138</th>\n",
       "      <td>73.90107</td>\n",
       "      <td>151.3913</td>\n",
       "    </tr>\n",
       "    <tr>\n",
       "      <th>174</th>\n",
       "      <td>73.83364</td>\n",
       "      <td>139.2983</td>\n",
       "    </tr>\n",
       "    <tr>\n",
       "      <th>1162</th>\n",
       "      <td>74.24899</td>\n",
       "      <td>150.2167</td>\n",
       "    </tr>\n",
       "    <tr>\n",
       "      <th>1383</th>\n",
       "      <td>74.19488</td>\n",
       "      <td>129.0597</td>\n",
       "    </tr>\n",
       "    <tr>\n",
       "      <th>1893</th>\n",
       "      <td>75.15280</td>\n",
       "      <td>146.9701</td>\n",
       "    </tr>\n",
       "    <tr>\n",
       "      <th>2395</th>\n",
       "      <td>73.99549</td>\n",
       "      <td>142.9016</td>\n",
       "    </tr>\n",
       "    <tr>\n",
       "      <th>2481</th>\n",
       "      <td>75.11519</td>\n",
       "      <td>153.9562</td>\n",
       "    </tr>\n",
       "    <tr>\n",
       "      <th>4191</th>\n",
       "      <td>74.03777</td>\n",
       "      <td>139.5953</td>\n",
       "    </tr>\n",
       "    <tr>\n",
       "      <th>4508</th>\n",
       "      <td>74.28376</td>\n",
       "      <td>147.7877</td>\n",
       "    </tr>\n",
       "    <tr>\n",
       "      <th>6627</th>\n",
       "      <td>73.72628</td>\n",
       "      <td>142.8110</td>\n",
       "    </tr>\n",
       "    <tr>\n",
       "      <th>7269</th>\n",
       "      <td>73.81695</td>\n",
       "      <td>140.0915</td>\n",
       "    </tr>\n",
       "    <tr>\n",
       "      <th>7839</th>\n",
       "      <td>73.85521</td>\n",
       "      <td>136.0667</td>\n",
       "    </tr>\n",
       "    <tr>\n",
       "      <th>8472</th>\n",
       "      <td>73.95409</td>\n",
       "      <td>145.2695</td>\n",
       "    </tr>\n",
       "    <tr>\n",
       "      <th>8828</th>\n",
       "      <td>74.27270</td>\n",
       "      <td>144.6600</td>\n",
       "    </tr>\n",
       "    <tr>\n",
       "      <th>9225</th>\n",
       "      <td>73.75335</td>\n",
       "      <td>153.1022</td>\n",
       "    </tr>\n",
       "    <tr>\n",
       "      <th>9492</th>\n",
       "      <td>74.05895</td>\n",
       "      <td>133.8172</td>\n",
       "    </tr>\n",
       "    <tr>\n",
       "      <th>10330</th>\n",
       "      <td>74.36328</td>\n",
       "      <td>164.6643</td>\n",
       "    </tr>\n",
       "    <tr>\n",
       "      <th>10635</th>\n",
       "      <td>73.88574</td>\n",
       "      <td>135.9816</td>\n",
       "    </tr>\n",
       "    <tr>\n",
       "      <th>11173</th>\n",
       "      <td>74.16797</td>\n",
       "      <td>142.7732</td>\n",
       "    </tr>\n",
       "    <tr>\n",
       "      <th>13681</th>\n",
       "      <td>74.74047</td>\n",
       "      <td>155.5462</td>\n",
       "    </tr>\n",
       "    <tr>\n",
       "      <th>14063</th>\n",
       "      <td>74.04804</td>\n",
       "      <td>149.6303</td>\n",
       "    </tr>\n",
       "    <tr>\n",
       "      <th>15209</th>\n",
       "      <td>74.59993</td>\n",
       "      <td>147.0372</td>\n",
       "    </tr>\n",
       "    <tr>\n",
       "      <th>15966</th>\n",
       "      <td>74.25069</td>\n",
       "      <td>150.0567</td>\n",
       "    </tr>\n",
       "    <tr>\n",
       "      <th>16145</th>\n",
       "      <td>74.47517</td>\n",
       "      <td>130.9092</td>\n",
       "    </tr>\n",
       "    <tr>\n",
       "      <th>16385</th>\n",
       "      <td>73.88318</td>\n",
       "      <td>134.2179</td>\n",
       "    </tr>\n",
       "    <tr>\n",
       "      <th>16752</th>\n",
       "      <td>74.84890</td>\n",
       "      <td>122.1664</td>\n",
       "    </tr>\n",
       "    <tr>\n",
       "      <th>17079</th>\n",
       "      <td>74.29570</td>\n",
       "      <td>170.5479</td>\n",
       "    </tr>\n",
       "    <tr>\n",
       "      <th>19005</th>\n",
       "      <td>74.01942</td>\n",
       "      <td>124.2312</td>\n",
       "    </tr>\n",
       "    <tr>\n",
       "      <th>21949</th>\n",
       "      <td>74.42744</td>\n",
       "      <td>141.7416</td>\n",
       "    </tr>\n",
       "    <tr>\n",
       "      <th>22471</th>\n",
       "      <td>74.51784</td>\n",
       "      <td>146.9867</td>\n",
       "    </tr>\n",
       "    <tr>\n",
       "      <th>22769</th>\n",
       "      <td>74.19842</td>\n",
       "      <td>141.6148</td>\n",
       "    </tr>\n",
       "    <tr>\n",
       "      <th>23039</th>\n",
       "      <td>73.95494</td>\n",
       "      <td>154.3987</td>\n",
       "    </tr>\n",
       "    <tr>\n",
       "      <th>24801</th>\n",
       "      <td>74.53177</td>\n",
       "      <td>148.9104</td>\n",
       "    </tr>\n",
       "  </tbody>\n",
       "</table>\n",
       "</div>"
      ],
      "text/plain": [
       "         Height    Weight\n",
       "138    73.90107  151.3913\n",
       "174    73.83364  139.2983\n",
       "1162   74.24899  150.2167\n",
       "1383   74.19488  129.0597\n",
       "1893   75.15280  146.9701\n",
       "2395   73.99549  142.9016\n",
       "2481   75.11519  153.9562\n",
       "4191   74.03777  139.5953\n",
       "4508   74.28376  147.7877\n",
       "6627   73.72628  142.8110\n",
       "7269   73.81695  140.0915\n",
       "7839   73.85521  136.0667\n",
       "8472   73.95409  145.2695\n",
       "8828   74.27270  144.6600\n",
       "9225   73.75335  153.1022\n",
       "9492   74.05895  133.8172\n",
       "10330  74.36328  164.6643\n",
       "10635  73.88574  135.9816\n",
       "11173  74.16797  142.7732\n",
       "13681  74.74047  155.5462\n",
       "14063  74.04804  149.6303\n",
       "15209  74.59993  147.0372\n",
       "15966  74.25069  150.0567\n",
       "16145  74.47517  130.9092\n",
       "16385  73.88318  134.2179\n",
       "16752  74.84890  122.1664\n",
       "17079  74.29570  170.5479\n",
       "19005  74.01942  124.2312\n",
       "21949  74.42744  141.7416\n",
       "22471  74.51784  146.9867\n",
       "22769  74.19842  141.6148\n",
       "23039  73.95494  154.3987\n",
       "24801  74.53177  148.9104"
      ]
     },
     "execution_count": 40,
     "metadata": {},
     "output_type": "execute_result"
    }
   ],
   "source": [
    "df[ df[\"Height\"] > upper]"
   ]
  },
  {
   "cell_type": "code",
   "execution_count": 42,
   "id": "9544e368",
   "metadata": {},
   "outputs": [
    {
     "data": {
      "text/plain": [
       "Height    33\n",
       "Weight    33\n",
       "dtype: int64"
      ]
     },
     "execution_count": 42,
     "metadata": {},
     "output_type": "execute_result"
    }
   ],
   "source": [
    "df[ df[\"Height\"] > upper].count()"
   ]
  },
  {
   "cell_type": "code",
   "execution_count": 44,
   "id": "6faa039f",
   "metadata": {},
   "outputs": [
    {
     "data": {
      "text/plain": [
       "0        False\n",
       "1        False\n",
       "2        False\n",
       "3        False\n",
       "4        False\n",
       "         ...  \n",
       "24995    False\n",
       "24996    False\n",
       "24997    False\n",
       "24998    False\n",
       "24999    False\n",
       "Name: Height, Length: 25000, dtype: bool"
      ]
     },
     "execution_count": 44,
     "metadata": {},
     "output_type": "execute_result"
    }
   ],
   "source": [
    "(df[\"Height\"] < lower) | (df[\"Height\"] > upper)"
   ]
  },
  {
   "cell_type": "code",
   "execution_count": 46,
   "id": "b7dbf556",
   "metadata": {},
   "outputs": [],
   "source": [
    "tot = (df[\"Height\"] < lower) | (df[\"Height\"] > upper)"
   ]
  },
  {
   "cell_type": "code",
   "execution_count": 47,
   "id": "8f994bd9",
   "metadata": {},
   "outputs": [
    {
     "data": {
      "text/plain": [
       "0        False\n",
       "1        False\n",
       "2        False\n",
       "3        False\n",
       "4        False\n",
       "         ...  \n",
       "24995    False\n",
       "24996    False\n",
       "24997    False\n",
       "24998    False\n",
       "24999    False\n",
       "Name: Height, Length: 25000, dtype: bool"
      ]
     },
     "execution_count": 47,
     "metadata": {},
     "output_type": "execute_result"
    }
   ],
   "source": [
    "tot"
   ]
  },
  {
   "cell_type": "code",
   "execution_count": 50,
   "id": "979ac441",
   "metadata": {},
   "outputs": [
    {
     "data": {
      "text/html": [
       "<div>\n",
       "<style scoped>\n",
       "    .dataframe tbody tr th:only-of-type {\n",
       "        vertical-align: middle;\n",
       "    }\n",
       "\n",
       "    .dataframe tbody tr th {\n",
       "        vertical-align: top;\n",
       "    }\n",
       "\n",
       "    .dataframe thead th {\n",
       "        text-align: right;\n",
       "    }\n",
       "</style>\n",
       "<table border=\"1\" class=\"dataframe\">\n",
       "  <thead>\n",
       "    <tr style=\"text-align: right;\">\n",
       "      <th></th>\n",
       "      <th>Height</th>\n",
       "      <th>Weight</th>\n",
       "    </tr>\n",
       "  </thead>\n",
       "  <tbody>\n",
       "    <tr>\n",
       "      <th>138</th>\n",
       "      <td>73.90107</td>\n",
       "      <td>151.39130</td>\n",
       "    </tr>\n",
       "    <tr>\n",
       "      <th>174</th>\n",
       "      <td>73.83364</td>\n",
       "      <td>139.29830</td>\n",
       "    </tr>\n",
       "    <tr>\n",
       "      <th>412</th>\n",
       "      <td>62.01666</td>\n",
       "      <td>109.08480</td>\n",
       "    </tr>\n",
       "    <tr>\n",
       "      <th>1162</th>\n",
       "      <td>74.24899</td>\n",
       "      <td>150.21670</td>\n",
       "    </tr>\n",
       "    <tr>\n",
       "      <th>1383</th>\n",
       "      <td>74.19488</td>\n",
       "      <td>129.05970</td>\n",
       "    </tr>\n",
       "    <tr>\n",
       "      <th>1893</th>\n",
       "      <td>75.15280</td>\n",
       "      <td>146.97010</td>\n",
       "    </tr>\n",
       "    <tr>\n",
       "      <th>2395</th>\n",
       "      <td>73.99549</td>\n",
       "      <td>142.90160</td>\n",
       "    </tr>\n",
       "    <tr>\n",
       "      <th>2481</th>\n",
       "      <td>75.11519</td>\n",
       "      <td>153.95620</td>\n",
       "    </tr>\n",
       "    <tr>\n",
       "      <th>2651</th>\n",
       "      <td>60.61265</td>\n",
       "      <td>88.04646</td>\n",
       "    </tr>\n",
       "    <tr>\n",
       "      <th>3696</th>\n",
       "      <td>61.89340</td>\n",
       "      <td>95.74545</td>\n",
       "    </tr>\n",
       "    <tr>\n",
       "      <th>4191</th>\n",
       "      <td>74.03777</td>\n",
       "      <td>139.59530</td>\n",
       "    </tr>\n",
       "    <tr>\n",
       "      <th>4508</th>\n",
       "      <td>74.28376</td>\n",
       "      <td>147.78770</td>\n",
       "    </tr>\n",
       "    <tr>\n",
       "      <th>5641</th>\n",
       "      <td>60.86340</td>\n",
       "      <td>106.19390</td>\n",
       "    </tr>\n",
       "    <tr>\n",
       "      <th>6405</th>\n",
       "      <td>62.23548</td>\n",
       "      <td>94.80998</td>\n",
       "    </tr>\n",
       "    <tr>\n",
       "      <th>6481</th>\n",
       "      <td>61.59011</td>\n",
       "      <td>99.81074</td>\n",
       "    </tr>\n",
       "    <tr>\n",
       "      <th>6627</th>\n",
       "      <td>73.72628</td>\n",
       "      <td>142.81100</td>\n",
       "    </tr>\n",
       "    <tr>\n",
       "      <th>6941</th>\n",
       "      <td>61.40550</td>\n",
       "      <td>119.26520</td>\n",
       "    </tr>\n",
       "    <tr>\n",
       "      <th>7269</th>\n",
       "      <td>73.81695</td>\n",
       "      <td>140.09150</td>\n",
       "    </tr>\n",
       "    <tr>\n",
       "      <th>7839</th>\n",
       "      <td>73.85521</td>\n",
       "      <td>136.06670</td>\n",
       "    </tr>\n",
       "    <tr>\n",
       "      <th>8472</th>\n",
       "      <td>73.95409</td>\n",
       "      <td>145.26950</td>\n",
       "    </tr>\n",
       "    <tr>\n",
       "      <th>8828</th>\n",
       "      <td>74.27270</td>\n",
       "      <td>144.66000</td>\n",
       "    </tr>\n",
       "    <tr>\n",
       "      <th>9225</th>\n",
       "      <td>73.75335</td>\n",
       "      <td>153.10220</td>\n",
       "    </tr>\n",
       "    <tr>\n",
       "      <th>9492</th>\n",
       "      <td>74.05895</td>\n",
       "      <td>133.81720</td>\n",
       "    </tr>\n",
       "    <tr>\n",
       "      <th>9876</th>\n",
       "      <td>61.30021</td>\n",
       "      <td>120.88190</td>\n",
       "    </tr>\n",
       "    <tr>\n",
       "      <th>10240</th>\n",
       "      <td>61.93152</td>\n",
       "      <td>85.29040</td>\n",
       "    </tr>\n",
       "    <tr>\n",
       "      <th>10330</th>\n",
       "      <td>74.36328</td>\n",
       "      <td>164.66430</td>\n",
       "    </tr>\n",
       "    <tr>\n",
       "      <th>10635</th>\n",
       "      <td>73.88574</td>\n",
       "      <td>135.98160</td>\n",
       "    </tr>\n",
       "    <tr>\n",
       "      <th>11173</th>\n",
       "      <td>74.16797</td>\n",
       "      <td>142.77320</td>\n",
       "    </tr>\n",
       "    <tr>\n",
       "      <th>12031</th>\n",
       "      <td>60.86977</td>\n",
       "      <td>108.86330</td>\n",
       "    </tr>\n",
       "    <tr>\n",
       "      <th>13681</th>\n",
       "      <td>74.74047</td>\n",
       "      <td>155.54620</td>\n",
       "    </tr>\n",
       "    <tr>\n",
       "      <th>13971</th>\n",
       "      <td>60.27836</td>\n",
       "      <td>110.11380</td>\n",
       "    </tr>\n",
       "    <tr>\n",
       "      <th>14063</th>\n",
       "      <td>74.04804</td>\n",
       "      <td>149.63030</td>\n",
       "    </tr>\n",
       "    <tr>\n",
       "      <th>14106</th>\n",
       "      <td>61.90725</td>\n",
       "      <td>78.56785</td>\n",
       "    </tr>\n",
       "    <tr>\n",
       "      <th>15209</th>\n",
       "      <td>74.59993</td>\n",
       "      <td>147.03720</td>\n",
       "    </tr>\n",
       "    <tr>\n",
       "      <th>15966</th>\n",
       "      <td>74.25069</td>\n",
       "      <td>150.05670</td>\n",
       "    </tr>\n",
       "    <tr>\n",
       "      <th>16145</th>\n",
       "      <td>74.47517</td>\n",
       "      <td>130.90920</td>\n",
       "    </tr>\n",
       "    <tr>\n",
       "      <th>16385</th>\n",
       "      <td>73.88318</td>\n",
       "      <td>134.21790</td>\n",
       "    </tr>\n",
       "    <tr>\n",
       "      <th>16752</th>\n",
       "      <td>74.84890</td>\n",
       "      <td>122.16640</td>\n",
       "    </tr>\n",
       "    <tr>\n",
       "      <th>17079</th>\n",
       "      <td>74.29570</td>\n",
       "      <td>170.54790</td>\n",
       "    </tr>\n",
       "    <tr>\n",
       "      <th>19005</th>\n",
       "      <td>74.01942</td>\n",
       "      <td>124.23120</td>\n",
       "    </tr>\n",
       "    <tr>\n",
       "      <th>19198</th>\n",
       "      <td>61.82700</td>\n",
       "      <td>100.93910</td>\n",
       "    </tr>\n",
       "    <tr>\n",
       "      <th>19750</th>\n",
       "      <td>62.05222</td>\n",
       "      <td>120.43650</td>\n",
       "    </tr>\n",
       "    <tr>\n",
       "      <th>20608</th>\n",
       "      <td>60.80620</td>\n",
       "      <td>113.91450</td>\n",
       "    </tr>\n",
       "    <tr>\n",
       "      <th>21949</th>\n",
       "      <td>74.42744</td>\n",
       "      <td>141.74160</td>\n",
       "    </tr>\n",
       "    <tr>\n",
       "      <th>22471</th>\n",
       "      <td>74.51784</td>\n",
       "      <td>146.98670</td>\n",
       "    </tr>\n",
       "    <tr>\n",
       "      <th>22507</th>\n",
       "      <td>61.57720</td>\n",
       "      <td>96.81420</td>\n",
       "    </tr>\n",
       "    <tr>\n",
       "      <th>22769</th>\n",
       "      <td>74.19842</td>\n",
       "      <td>141.61480</td>\n",
       "    </tr>\n",
       "    <tr>\n",
       "      <th>22945</th>\n",
       "      <td>61.92639</td>\n",
       "      <td>78.01476</td>\n",
       "    </tr>\n",
       "    <tr>\n",
       "      <th>23039</th>\n",
       "      <td>73.95494</td>\n",
       "      <td>154.39870</td>\n",
       "    </tr>\n",
       "    <tr>\n",
       "      <th>24244</th>\n",
       "      <td>62.26498</td>\n",
       "      <td>104.13480</td>\n",
       "    </tr>\n",
       "    <tr>\n",
       "      <th>24801</th>\n",
       "      <td>74.53177</td>\n",
       "      <td>148.91040</td>\n",
       "    </tr>\n",
       "  </tbody>\n",
       "</table>\n",
       "</div>"
      ],
      "text/plain": [
       "         Height     Weight\n",
       "138    73.90107  151.39130\n",
       "174    73.83364  139.29830\n",
       "412    62.01666  109.08480\n",
       "1162   74.24899  150.21670\n",
       "1383   74.19488  129.05970\n",
       "1893   75.15280  146.97010\n",
       "2395   73.99549  142.90160\n",
       "2481   75.11519  153.95620\n",
       "2651   60.61265   88.04646\n",
       "3696   61.89340   95.74545\n",
       "4191   74.03777  139.59530\n",
       "4508   74.28376  147.78770\n",
       "5641   60.86340  106.19390\n",
       "6405   62.23548   94.80998\n",
       "6481   61.59011   99.81074\n",
       "6627   73.72628  142.81100\n",
       "6941   61.40550  119.26520\n",
       "7269   73.81695  140.09150\n",
       "7839   73.85521  136.06670\n",
       "8472   73.95409  145.26950\n",
       "8828   74.27270  144.66000\n",
       "9225   73.75335  153.10220\n",
       "9492   74.05895  133.81720\n",
       "9876   61.30021  120.88190\n",
       "10240  61.93152   85.29040\n",
       "10330  74.36328  164.66430\n",
       "10635  73.88574  135.98160\n",
       "11173  74.16797  142.77320\n",
       "12031  60.86977  108.86330\n",
       "13681  74.74047  155.54620\n",
       "13971  60.27836  110.11380\n",
       "14063  74.04804  149.63030\n",
       "14106  61.90725   78.56785\n",
       "15209  74.59993  147.03720\n",
       "15966  74.25069  150.05670\n",
       "16145  74.47517  130.90920\n",
       "16385  73.88318  134.21790\n",
       "16752  74.84890  122.16640\n",
       "17079  74.29570  170.54790\n",
       "19005  74.01942  124.23120\n",
       "19198  61.82700  100.93910\n",
       "19750  62.05222  120.43650\n",
       "20608  60.80620  113.91450\n",
       "21949  74.42744  141.74160\n",
       "22471  74.51784  146.98670\n",
       "22507  61.57720   96.81420\n",
       "22769  74.19842  141.61480\n",
       "22945  61.92639   78.01476\n",
       "23039  73.95494  154.39870\n",
       "24244  62.26498  104.13480\n",
       "24801  74.53177  148.91040"
      ]
     },
     "execution_count": 50,
     "metadata": {},
     "output_type": "execute_result"
    }
   ],
   "source": [
    "df[tot]"
   ]
  },
  {
   "cell_type": "code",
   "execution_count": 51,
   "id": "39abfda0",
   "metadata": {},
   "outputs": [
    {
     "data": {
      "text/plain": [
       "Height    51\n",
       "Weight    51\n",
       "dtype: int64"
      ]
     },
     "execution_count": 51,
     "metadata": {},
     "output_type": "execute_result"
    }
   ],
   "source": [
    "df[tot].count()"
   ]
  },
  {
   "cell_type": "code",
   "execution_count": 52,
   "id": "bebd5b01",
   "metadata": {},
   "outputs": [
    {
     "data": {
      "text/plain": [
       "0        65.78331\n",
       "1        71.51521\n",
       "2        69.39874\n",
       "3        68.21660\n",
       "4        67.78781\n",
       "           ...   \n",
       "24995    69.50215\n",
       "24996    64.54826\n",
       "24997    64.69855\n",
       "24998    67.52918\n",
       "24999    68.87761\n",
       "Name: Height, Length: 25000, dtype: float64"
      ]
     },
     "execution_count": 52,
     "metadata": {},
     "output_type": "execute_result"
    }
   ],
   "source": [
    "df[\"Height\"]"
   ]
  },
  {
   "cell_type": "code",
   "execution_count": 54,
   "id": "8d690980",
   "metadata": {},
   "outputs": [],
   "source": [
    "df[\"Height\"] = df[\"Height\"].map(lambda x : lower if x < lower else upper if x > upper else x) "
   ]
  },
  {
   "cell_type": "code",
   "execution_count": 55,
   "id": "725fdad0",
   "metadata": {},
   "outputs": [
    {
     "data": {
      "text/plain": [
       "0        65.78331\n",
       "1        71.51521\n",
       "2        69.39874\n",
       "3        68.21660\n",
       "4        67.78781\n",
       "           ...   \n",
       "24995    69.50215\n",
       "24996    64.54826\n",
       "24997    64.69855\n",
       "24998    67.52918\n",
       "24999    68.87761\n",
       "Name: Height, Length: 25000, dtype: float64"
      ]
     },
     "execution_count": 55,
     "metadata": {},
     "output_type": "execute_result"
    }
   ],
   "source": [
    "df[\"Height\"]"
   ]
  },
  {
   "cell_type": "code",
   "execution_count": 56,
   "id": "98e016cf",
   "metadata": {},
   "outputs": [
    {
     "data": {
      "text/html": [
       "<div>\n",
       "<style scoped>\n",
       "    .dataframe tbody tr th:only-of-type {\n",
       "        vertical-align: middle;\n",
       "    }\n",
       "\n",
       "    .dataframe tbody tr th {\n",
       "        vertical-align: top;\n",
       "    }\n",
       "\n",
       "    .dataframe thead th {\n",
       "        text-align: right;\n",
       "    }\n",
       "</style>\n",
       "<table border=\"1\" class=\"dataframe\">\n",
       "  <thead>\n",
       "    <tr style=\"text-align: right;\">\n",
       "      <th></th>\n",
       "      <th>Height</th>\n",
       "      <th>Weight</th>\n",
       "    </tr>\n",
       "  </thead>\n",
       "  <tbody>\n",
       "  </tbody>\n",
       "</table>\n",
       "</div>"
      ],
      "text/plain": [
       "Empty DataFrame\n",
       "Columns: [Height, Weight]\n",
       "Index: []"
      ]
     },
     "execution_count": 56,
     "metadata": {},
     "output_type": "execute_result"
    }
   ],
   "source": [
    "df[(df[\"Height\"] < lower) | (df[\"Height\"] > upper)  ]"
   ]
  },
  {
   "cell_type": "code",
   "execution_count": 64,
   "id": "8af0268e",
   "metadata": {},
   "outputs": [
    {
     "data": {
      "text/html": [
       "<div>\n",
       "<style scoped>\n",
       "    .dataframe tbody tr th:only-of-type {\n",
       "        vertical-align: middle;\n",
       "    }\n",
       "\n",
       "    .dataframe tbody tr th {\n",
       "        vertical-align: top;\n",
       "    }\n",
       "\n",
       "    .dataframe thead th {\n",
       "        text-align: right;\n",
       "    }\n",
       "</style>\n",
       "<table border=\"1\" class=\"dataframe\">\n",
       "  <thead>\n",
       "    <tr style=\"text-align: right;\">\n",
       "      <th></th>\n",
       "      <th>Height(Inches)</th>\n",
       "      <th>Weight(Pounds)</th>\n",
       "    </tr>\n",
       "  </thead>\n",
       "  <tbody>\n",
       "    <tr>\n",
       "      <th>0</th>\n",
       "      <td>65.78331</td>\n",
       "      <td>112.9925</td>\n",
       "    </tr>\n",
       "    <tr>\n",
       "      <th>1</th>\n",
       "      <td>71.51521</td>\n",
       "      <td>136.4873</td>\n",
       "    </tr>\n",
       "    <tr>\n",
       "      <th>2</th>\n",
       "      <td>69.39874</td>\n",
       "      <td>153.0269</td>\n",
       "    </tr>\n",
       "    <tr>\n",
       "      <th>3</th>\n",
       "      <td>68.21660</td>\n",
       "      <td>142.3354</td>\n",
       "    </tr>\n",
       "    <tr>\n",
       "      <th>4</th>\n",
       "      <td>67.78781</td>\n",
       "      <td>144.2971</td>\n",
       "    </tr>\n",
       "    <tr>\n",
       "      <th>...</th>\n",
       "      <td>...</td>\n",
       "      <td>...</td>\n",
       "    </tr>\n",
       "    <tr>\n",
       "      <th>24995</th>\n",
       "      <td>69.50215</td>\n",
       "      <td>118.0312</td>\n",
       "    </tr>\n",
       "    <tr>\n",
       "      <th>24996</th>\n",
       "      <td>64.54826</td>\n",
       "      <td>120.1932</td>\n",
       "    </tr>\n",
       "    <tr>\n",
       "      <th>24997</th>\n",
       "      <td>64.69855</td>\n",
       "      <td>118.2655</td>\n",
       "    </tr>\n",
       "    <tr>\n",
       "      <th>24998</th>\n",
       "      <td>67.52918</td>\n",
       "      <td>132.2682</td>\n",
       "    </tr>\n",
       "    <tr>\n",
       "      <th>24999</th>\n",
       "      <td>68.87761</td>\n",
       "      <td>124.8742</td>\n",
       "    </tr>\n",
       "  </tbody>\n",
       "</table>\n",
       "<p>25000 rows × 2 columns</p>\n",
       "</div>"
      ],
      "text/plain": [
       "       Height(Inches)  Weight(Pounds)\n",
       "0            65.78331        112.9925\n",
       "1            71.51521        136.4873\n",
       "2            69.39874        153.0269\n",
       "3            68.21660        142.3354\n",
       "4            67.78781        144.2971\n",
       "...               ...             ...\n",
       "24995        69.50215        118.0312\n",
       "24996        64.54826        120.1932\n",
       "24997        64.69855        118.2655\n",
       "24998        67.52918        132.2682\n",
       "24999        68.87761        124.8742\n",
       "\n",
       "[25000 rows x 2 columns]"
      ]
     },
     "execution_count": 64,
     "metadata": {},
     "output_type": "execute_result"
    }
   ],
   "source": [
    "df"
   ]
  },
  {
   "cell_type": "code",
   "execution_count": 68,
   "id": "e28fd6b7",
   "metadata": {},
   "outputs": [
    {
     "data": {
      "text/plain": [
       "0        112.9925\n",
       "1        136.4873\n",
       "2        153.0269\n",
       "3        142.3354\n",
       "4        144.2971\n",
       "           ...   \n",
       "24995    118.0312\n",
       "24996    120.1932\n",
       "24997    118.2655\n",
       "24998    132.2682\n",
       "24999    124.8742\n",
       "Name: Weight, Length: 25000, dtype: float64"
      ]
     },
     "execution_count": 68,
     "metadata": {},
     "output_type": "execute_result"
    }
   ],
   "source": [
    "df[\"Weight\"]"
   ]
  },
  {
   "cell_type": "code",
   "execution_count": 70,
   "id": "2544a3f2",
   "metadata": {},
   "outputs": [
    {
     "data": {
      "image/png": "[encoded data removed]",
      "text/plain": [
       "<Figure size 640x480 with 1 Axes>"
      ]
     },
     "metadata": {},
     "output_type": "display_data"
    }
   ],
   "source": [
    "plt.boxplot(df[\"Weight\"])\n",
    "plt.show()"
   ]
  },
  {
   "cell_type": "code",
   "execution_count": 71,
   "id": "3f93cf91",
   "metadata": {},
   "outputs": [
    {
     "data": {
      "image/png": "[encoded data removed]",
      "text/plain": [
       "<Figure size 640x480 with 1 Axes>"
      ]
     },
     "metadata": {},
     "output_type": "display_data"
    }
   ],
   "source": [
    "plt.hist(df[\"Weight\"])\n",
    "plt.show()"
   ]
  },
  {
   "cell_type": "code",
   "execution_count": 72,
   "id": "c950bb65",
   "metadata": {},
   "outputs": [
    {
     "data": {
      "image/png": "[encoded data removed]",
      "text/plain": [
       "<Figure size 640x480 with 1 Axes>"
      ]
     },
     "metadata": {},
     "output_type": "display_data"
    }
   ],
   "source": [
    "plt.hist(df[\"Weight\"], bins = 40, rwidth = 0.90)\n",
    "plt.show()"
   ]
  },
  {
   "cell_type": "code",
   "execution_count": 73,
   "id": "a4ff8a1e",
   "metadata": {},
   "outputs": [
    {
     "data": {
      "text/plain": [
       "-0.026031345790611"
      ]
     },
     "execution_count": 73,
     "metadata": {},
     "output_type": "execute_result"
    }
   ],
   "source": [
    "df[\"Weight\"].skew()"
   ]
  },
  {
   "cell_type": "code",
   "execution_count": 75,
   "id": "f6e27553",
   "metadata": {},
   "outputs": [
    {
     "data": {
      "text/plain": [
       "-0.0"
      ]
     },
     "execution_count": 75,
     "metadata": {},
     "output_type": "execute_result"
    }
   ],
   "source": [
    "df[\"Weight\"].skew().round()"
   ]
  },
  {
   "cell_type": "code",
   "execution_count": 76,
   "id": "684efa87",
   "metadata": {},
   "outputs": [],
   "source": [
    "m1 = df[\"Weight\"].mean()"
   ]
  },
  {
   "cell_type": "code",
   "execution_count": 77,
   "id": "033a2a68",
   "metadata": {},
   "outputs": [
    {
     "data": {
      "text/plain": [
       "127.07942116079916"
      ]
     },
     "execution_count": 77,
     "metadata": {},
     "output_type": "execute_result"
    }
   ],
   "source": [
    "m1"
   ]
  },
  {
   "cell_type": "code",
   "execution_count": 78,
   "id": "5c32d7ba",
   "metadata": {},
   "outputs": [],
   "source": [
    "s1 = df[\"Weight\"].std()"
   ]
  },
  {
   "cell_type": "code",
   "execution_count": 79,
   "id": "e3c8811d",
   "metadata": {},
   "outputs": [
    {
     "data": {
      "text/plain": [
       "11.660897563604287"
      ]
     },
     "execution_count": 79,
     "metadata": {},
     "output_type": "execute_result"
    }
   ],
   "source": [
    "s1"
   ]
  },
  {
   "cell_type": "code",
   "execution_count": 92,
   "id": "1612d1e1",
   "metadata": {},
   "outputs": [],
   "source": [
    "lower1 = m1 - 3*s1"
   ]
  },
  {
   "cell_type": "code",
   "execution_count": 93,
   "id": "20c84c28",
   "metadata": {},
   "outputs": [
    {
     "data": {
      "text/plain": [
       "92.09672846998629"
      ]
     },
     "execution_count": 93,
     "metadata": {},
     "output_type": "execute_result"
    }
   ],
   "source": [
    "lower1"
   ]
  },
  {
   "cell_type": "code",
   "execution_count": 94,
   "id": "c60ae2a7",
   "metadata": {},
   "outputs": [],
   "source": [
    "upper1 = m1 + 3*s1"
   ]
  },
  {
   "cell_type": "code",
   "execution_count": 95,
   "id": "cdc79e56",
   "metadata": {},
   "outputs": [
    {
     "data": {
      "text/plain": [
       "162.06211385161203"
      ]
     },
     "execution_count": 95,
     "metadata": {},
     "output_type": "execute_result"
    }
   ],
   "source": [
    "upper1"
   ]
  },
  {
   "cell_type": "code",
   "execution_count": 96,
   "id": "0ba671cf",
   "metadata": {},
   "outputs": [
    {
     "data": {
      "text/plain": [
       "0        False\n",
       "1        False\n",
       "2        False\n",
       "3        False\n",
       "4        False\n",
       "         ...  \n",
       "24995    False\n",
       "24996    False\n",
       "24997    False\n",
       "24998    False\n",
       "24999    False\n",
       "Name: Weight, Length: 25000, dtype: bool"
      ]
     },
     "execution_count": 96,
     "metadata": {},
     "output_type": "execute_result"
    }
   ],
   "source": [
    "df[\"Weight\"] < lower1"
   ]
  },
  {
   "cell_type": "code",
   "execution_count": 97,
   "id": "38878488",
   "metadata": {},
   "outputs": [
    {
     "data": {
      "text/html": [
       "<div>\n",
       "<style scoped>\n",
       "    .dataframe tbody tr th:only-of-type {\n",
       "        vertical-align: middle;\n",
       "    }\n",
       "\n",
       "    .dataframe tbody tr th {\n",
       "        vertical-align: top;\n",
       "    }\n",
       "\n",
       "    .dataframe thead th {\n",
       "        text-align: right;\n",
       "    }\n",
       "</style>\n",
       "<table border=\"1\" class=\"dataframe\">\n",
       "  <thead>\n",
       "    <tr style=\"text-align: right;\">\n",
       "      <th></th>\n",
       "      <th>Height</th>\n",
       "      <th>Weight</th>\n",
       "    </tr>\n",
       "  </thead>\n",
       "  <tbody>\n",
       "    <tr>\n",
       "      <th>249</th>\n",
       "      <td>65.93895</td>\n",
       "      <td>84.35980</td>\n",
       "    </tr>\n",
       "    <tr>\n",
       "      <th>727</th>\n",
       "      <td>63.12550</td>\n",
       "      <td>83.08527</td>\n",
       "    </tr>\n",
       "    <tr>\n",
       "      <th>1432</th>\n",
       "      <td>64.87469</td>\n",
       "      <td>90.29334</td>\n",
       "    </tr>\n",
       "    <tr>\n",
       "      <th>2009</th>\n",
       "      <td>64.01976</td>\n",
       "      <td>90.91793</td>\n",
       "    </tr>\n",
       "    <tr>\n",
       "      <th>2485</th>\n",
       "      <td>63.19370</td>\n",
       "      <td>90.67840</td>\n",
       "    </tr>\n",
       "    <tr>\n",
       "      <th>2651</th>\n",
       "      <td>60.61265</td>\n",
       "      <td>88.04646</td>\n",
       "    </tr>\n",
       "    <tr>\n",
       "      <th>3515</th>\n",
       "      <td>63.96935</td>\n",
       "      <td>84.86345</td>\n",
       "    </tr>\n",
       "    <tr>\n",
       "      <th>5366</th>\n",
       "      <td>66.64317</td>\n",
       "      <td>86.98200</td>\n",
       "    </tr>\n",
       "    <tr>\n",
       "      <th>5705</th>\n",
       "      <td>62.87732</td>\n",
       "      <td>86.66900</td>\n",
       "    </tr>\n",
       "    <tr>\n",
       "      <th>5841</th>\n",
       "      <td>62.34907</td>\n",
       "      <td>92.08858</td>\n",
       "    </tr>\n",
       "    <tr>\n",
       "      <th>6256</th>\n",
       "      <td>67.66363</td>\n",
       "      <td>91.26068</td>\n",
       "    </tr>\n",
       "    <tr>\n",
       "      <th>6347</th>\n",
       "      <td>64.51185</td>\n",
       "      <td>86.49925</td>\n",
       "    </tr>\n",
       "    <tr>\n",
       "      <th>7320</th>\n",
       "      <td>65.36397</td>\n",
       "      <td>88.81051</td>\n",
       "    </tr>\n",
       "    <tr>\n",
       "      <th>7417</th>\n",
       "      <td>64.55084</td>\n",
       "      <td>90.03145</td>\n",
       "    </tr>\n",
       "    <tr>\n",
       "      <th>8124</th>\n",
       "      <td>64.84131</td>\n",
       "      <td>91.80850</td>\n",
       "    </tr>\n",
       "    <tr>\n",
       "      <th>8150</th>\n",
       "      <td>65.97774</td>\n",
       "      <td>91.25752</td>\n",
       "    </tr>\n",
       "    <tr>\n",
       "      <th>8317</th>\n",
       "      <td>65.00921</td>\n",
       "      <td>84.26295</td>\n",
       "    </tr>\n",
       "    <tr>\n",
       "      <th>8414</th>\n",
       "      <td>66.49187</td>\n",
       "      <td>90.16983</td>\n",
       "    </tr>\n",
       "    <tr>\n",
       "      <th>10240</th>\n",
       "      <td>61.93152</td>\n",
       "      <td>85.29040</td>\n",
       "    </tr>\n",
       "    <tr>\n",
       "      <th>10477</th>\n",
       "      <td>64.77966</td>\n",
       "      <td>89.64885</td>\n",
       "    </tr>\n",
       "    <tr>\n",
       "      <th>11451</th>\n",
       "      <td>67.48496</td>\n",
       "      <td>91.91782</td>\n",
       "    </tr>\n",
       "    <tr>\n",
       "      <th>11485</th>\n",
       "      <td>68.48521</td>\n",
       "      <td>90.53995</td>\n",
       "    </tr>\n",
       "    <tr>\n",
       "      <th>12446</th>\n",
       "      <td>64.74007</td>\n",
       "      <td>87.37910</td>\n",
       "    </tr>\n",
       "    <tr>\n",
       "      <th>12699</th>\n",
       "      <td>66.95170</td>\n",
       "      <td>91.22631</td>\n",
       "    </tr>\n",
       "    <tr>\n",
       "      <th>12731</th>\n",
       "      <td>62.39800</td>\n",
       "      <td>89.19710</td>\n",
       "    </tr>\n",
       "    <tr>\n",
       "      <th>13706</th>\n",
       "      <td>67.88128</td>\n",
       "      <td>91.79628</td>\n",
       "    </tr>\n",
       "    <tr>\n",
       "      <th>14106</th>\n",
       "      <td>61.90725</td>\n",
       "      <td>78.56785</td>\n",
       "    </tr>\n",
       "    <tr>\n",
       "      <th>14398</th>\n",
       "      <td>65.39821</td>\n",
       "      <td>90.24255</td>\n",
       "    </tr>\n",
       "    <tr>\n",
       "      <th>15005</th>\n",
       "      <td>65.47213</td>\n",
       "      <td>83.33859</td>\n",
       "    </tr>\n",
       "    <tr>\n",
       "      <th>16552</th>\n",
       "      <td>65.52770</td>\n",
       "      <td>90.67684</td>\n",
       "    </tr>\n",
       "    <tr>\n",
       "      <th>17265</th>\n",
       "      <td>62.95082</td>\n",
       "      <td>89.82395</td>\n",
       "    </tr>\n",
       "    <tr>\n",
       "      <th>17598</th>\n",
       "      <td>66.52168</td>\n",
       "      <td>90.28757</td>\n",
       "    </tr>\n",
       "    <tr>\n",
       "      <th>19203</th>\n",
       "      <td>63.86542</td>\n",
       "      <td>88.16618</td>\n",
       "    </tr>\n",
       "    <tr>\n",
       "      <th>19472</th>\n",
       "      <td>62.50167</td>\n",
       "      <td>91.57279</td>\n",
       "    </tr>\n",
       "    <tr>\n",
       "      <th>19854</th>\n",
       "      <td>64.74935</td>\n",
       "      <td>89.95606</td>\n",
       "    </tr>\n",
       "    <tr>\n",
       "      <th>21101</th>\n",
       "      <td>65.84174</td>\n",
       "      <td>85.98927</td>\n",
       "    </tr>\n",
       "    <tr>\n",
       "      <th>22282</th>\n",
       "      <td>64.14250</td>\n",
       "      <td>91.37972</td>\n",
       "    </tr>\n",
       "    <tr>\n",
       "      <th>22738</th>\n",
       "      <td>62.87593</td>\n",
       "      <td>87.80417</td>\n",
       "    </tr>\n",
       "    <tr>\n",
       "      <th>22945</th>\n",
       "      <td>61.92639</td>\n",
       "      <td>78.01476</td>\n",
       "    </tr>\n",
       "    <tr>\n",
       "      <th>24610</th>\n",
       "      <td>66.56804</td>\n",
       "      <td>82.38298</td>\n",
       "    </tr>\n",
       "  </tbody>\n",
       "</table>\n",
       "</div>"
      ],
      "text/plain": [
       "         Height    Weight\n",
       "249    65.93895  84.35980\n",
       "727    63.12550  83.08527\n",
       "1432   64.87469  90.29334\n",
       "2009   64.01976  90.91793\n",
       "2485   63.19370  90.67840\n",
       "2651   60.61265  88.04646\n",
       "3515   63.96935  84.86345\n",
       "5366   66.64317  86.98200\n",
       "5705   62.87732  86.66900\n",
       "5841   62.34907  92.08858\n",
       "6256   67.66363  91.26068\n",
       "6347   64.51185  86.49925\n",
       "7320   65.36397  88.81051\n",
       "7417   64.55084  90.03145\n",
       "8124   64.84131  91.80850\n",
       "8150   65.97774  91.25752\n",
       "8317   65.00921  84.26295\n",
       "8414   66.49187  90.16983\n",
       "10240  61.93152  85.29040\n",
       "10477  64.77966  89.64885\n",
       "11451  67.48496  91.91782\n",
       "11485  68.48521  90.53995\n",
       "12446  64.74007  87.37910\n",
       "12699  66.95170  91.22631\n",
       "12731  62.39800  89.19710\n",
       "13706  67.88128  91.79628\n",
       "14106  61.90725  78.56785\n",
       "14398  65.39821  90.24255\n",
       "15005  65.47213  83.33859\n",
       "16552  65.52770  90.67684\n",
       "17265  62.95082  89.82395\n",
       "17598  66.52168  90.28757\n",
       "19203  63.86542  88.16618\n",
       "19472  62.50167  91.57279\n",
       "19854  64.74935  89.95606\n",
       "21101  65.84174  85.98927\n",
       "22282  64.14250  91.37972\n",
       "22738  62.87593  87.80417\n",
       "22945  61.92639  78.01476\n",
       "24610  66.56804  82.38298"
      ]
     },
     "execution_count": 97,
     "metadata": {},
     "output_type": "execute_result"
    }
   ],
   "source": [
    "df [ df[\"Weight\"] < lower1 ]"
   ]
  },
  {
   "cell_type": "code",
   "execution_count": 101,
   "id": "81f12676",
   "metadata": {},
   "outputs": [
    {
     "data": {
      "text/plain": [
       "Height    40\n",
       "Weight    40\n",
       "dtype: int64"
      ]
     },
     "execution_count": 101,
     "metadata": {},
     "output_type": "execute_result"
    }
   ],
   "source": [
    "df [ df[\"Weight\"] < lower1 ].count()"
   ]
  },
  {
   "cell_type": "code",
   "execution_count": 98,
   "id": "2564e367",
   "metadata": {},
   "outputs": [
    {
     "data": {
      "text/plain": [
       "0        False\n",
       "1        False\n",
       "2        False\n",
       "3        False\n",
       "4        False\n",
       "         ...  \n",
       "24995    False\n",
       "24996    False\n",
       "24997    False\n",
       "24998    False\n",
       "24999    False\n",
       "Name: Weight, Length: 25000, dtype: bool"
      ]
     },
     "execution_count": 98,
     "metadata": {},
     "output_type": "execute_result"
    }
   ],
   "source": [
    "df[\"Weight\"] > upper1"
   ]
  },
  {
   "cell_type": "code",
   "execution_count": 99,
   "id": "680a739d",
   "metadata": {},
   "outputs": [
    {
     "data": {
      "text/html": [
       "<div>\n",
       "<style scoped>\n",
       "    .dataframe tbody tr th:only-of-type {\n",
       "        vertical-align: middle;\n",
       "    }\n",
       "\n",
       "    .dataframe tbody tr th {\n",
       "        vertical-align: top;\n",
       "    }\n",
       "\n",
       "    .dataframe thead th {\n",
       "        text-align: right;\n",
       "    }\n",
       "</style>\n",
       "<table border=\"1\" class=\"dataframe\">\n",
       "  <thead>\n",
       "    <tr style=\"text-align: right;\">\n",
       "      <th></th>\n",
       "      <th>Height</th>\n",
       "      <th>Weight</th>\n",
       "    </tr>\n",
       "  </thead>\n",
       "  <tbody>\n",
       "    <tr>\n",
       "      <th>367</th>\n",
       "      <td>72.32489</td>\n",
       "      <td>168.2290</td>\n",
       "    </tr>\n",
       "    <tr>\n",
       "      <th>446</th>\n",
       "      <td>69.16807</td>\n",
       "      <td>162.4109</td>\n",
       "    </tr>\n",
       "    <tr>\n",
       "      <th>1332</th>\n",
       "      <td>72.52115</td>\n",
       "      <td>162.8737</td>\n",
       "    </tr>\n",
       "    <tr>\n",
       "      <th>3923</th>\n",
       "      <td>68.98184</td>\n",
       "      <td>162.1526</td>\n",
       "    </tr>\n",
       "    <tr>\n",
       "      <th>4053</th>\n",
       "      <td>70.03532</td>\n",
       "      <td>162.0645</td>\n",
       "    </tr>\n",
       "    <tr>\n",
       "      <th>4343</th>\n",
       "      <td>73.52131</td>\n",
       "      <td>168.8810</td>\n",
       "    </tr>\n",
       "    <tr>\n",
       "      <th>4624</th>\n",
       "      <td>71.78019</td>\n",
       "      <td>166.3016</td>\n",
       "    </tr>\n",
       "    <tr>\n",
       "      <th>5394</th>\n",
       "      <td>70.75604</td>\n",
       "      <td>166.2812</td>\n",
       "    </tr>\n",
       "    <tr>\n",
       "      <th>6118</th>\n",
       "      <td>70.42781</td>\n",
       "      <td>165.7172</td>\n",
       "    </tr>\n",
       "    <tr>\n",
       "      <th>6384</th>\n",
       "      <td>71.25946</td>\n",
       "      <td>164.5588</td>\n",
       "    </tr>\n",
       "    <tr>\n",
       "      <th>6506</th>\n",
       "      <td>70.32828</td>\n",
       "      <td>163.8992</td>\n",
       "    </tr>\n",
       "    <tr>\n",
       "      <th>7996</th>\n",
       "      <td>69.57329</td>\n",
       "      <td>169.1268</td>\n",
       "    </tr>\n",
       "    <tr>\n",
       "      <th>9823</th>\n",
       "      <td>71.61882</td>\n",
       "      <td>165.8716</td>\n",
       "    </tr>\n",
       "    <tr>\n",
       "      <th>9925</th>\n",
       "      <td>70.47453</td>\n",
       "      <td>165.8150</td>\n",
       "    </tr>\n",
       "    <tr>\n",
       "      <th>9957</th>\n",
       "      <td>73.17710</td>\n",
       "      <td>162.3663</td>\n",
       "    </tr>\n",
       "    <tr>\n",
       "      <th>10234</th>\n",
       "      <td>70.71295</td>\n",
       "      <td>170.9240</td>\n",
       "    </tr>\n",
       "    <tr>\n",
       "      <th>10330</th>\n",
       "      <td>74.36328</td>\n",
       "      <td>164.6643</td>\n",
       "    </tr>\n",
       "    <tr>\n",
       "      <th>11753</th>\n",
       "      <td>70.38460</td>\n",
       "      <td>166.7687</td>\n",
       "    </tr>\n",
       "    <tr>\n",
       "      <th>11819</th>\n",
       "      <td>71.73550</td>\n",
       "      <td>162.0943</td>\n",
       "    </tr>\n",
       "    <tr>\n",
       "      <th>11974</th>\n",
       "      <td>71.26903</td>\n",
       "      <td>166.1956</td>\n",
       "    </tr>\n",
       "    <tr>\n",
       "      <th>12883</th>\n",
       "      <td>71.58499</td>\n",
       "      <td>167.8045</td>\n",
       "    </tr>\n",
       "    <tr>\n",
       "      <th>13738</th>\n",
       "      <td>71.23640</td>\n",
       "      <td>165.4348</td>\n",
       "    </tr>\n",
       "    <tr>\n",
       "      <th>14514</th>\n",
       "      <td>70.95412</td>\n",
       "      <td>162.4844</td>\n",
       "    </tr>\n",
       "    <tr>\n",
       "      <th>15097</th>\n",
       "      <td>70.20879</td>\n",
       "      <td>163.8728</td>\n",
       "    </tr>\n",
       "    <tr>\n",
       "      <th>15474</th>\n",
       "      <td>71.40250</td>\n",
       "      <td>163.3466</td>\n",
       "    </tr>\n",
       "    <tr>\n",
       "      <th>16126</th>\n",
       "      <td>67.56548</td>\n",
       "      <td>164.5865</td>\n",
       "    </tr>\n",
       "    <tr>\n",
       "      <th>17079</th>\n",
       "      <td>74.29570</td>\n",
       "      <td>170.5479</td>\n",
       "    </tr>\n",
       "    <tr>\n",
       "      <th>20308</th>\n",
       "      <td>72.59665</td>\n",
       "      <td>165.6900</td>\n",
       "    </tr>\n",
       "    <tr>\n",
       "      <th>21007</th>\n",
       "      <td>70.33089</td>\n",
       "      <td>164.4539</td>\n",
       "    </tr>\n",
       "  </tbody>\n",
       "</table>\n",
       "</div>"
      ],
      "text/plain": [
       "         Height    Weight\n",
       "367    72.32489  168.2290\n",
       "446    69.16807  162.4109\n",
       "1332   72.52115  162.8737\n",
       "3923   68.98184  162.1526\n",
       "4053   70.03532  162.0645\n",
       "4343   73.52131  168.8810\n",
       "4624   71.78019  166.3016\n",
       "5394   70.75604  166.2812\n",
       "6118   70.42781  165.7172\n",
       "6384   71.25946  164.5588\n",
       "6506   70.32828  163.8992\n",
       "7996   69.57329  169.1268\n",
       "9823   71.61882  165.8716\n",
       "9925   70.47453  165.8150\n",
       "9957   73.17710  162.3663\n",
       "10234  70.71295  170.9240\n",
       "10330  74.36328  164.6643\n",
       "11753  70.38460  166.7687\n",
       "11819  71.73550  162.0943\n",
       "11974  71.26903  166.1956\n",
       "12883  71.58499  167.8045\n",
       "13738  71.23640  165.4348\n",
       "14514  70.95412  162.4844\n",
       "15097  70.20879  163.8728\n",
       "15474  71.40250  163.3466\n",
       "16126  67.56548  164.5865\n",
       "17079  74.29570  170.5479\n",
       "20308  72.59665  165.6900\n",
       "21007  70.33089  164.4539"
      ]
     },
     "execution_count": 99,
     "metadata": {},
     "output_type": "execute_result"
    }
   ],
   "source": [
    "df [ df[\"Weight\"] > upper1]"
   ]
  },
  {
   "cell_type": "code",
   "execution_count": 102,
   "id": "30bc96dd",
   "metadata": {},
   "outputs": [
    {
     "data": {
      "text/plain": [
       "Height    29\n",
       "Weight    29\n",
       "dtype: int64"
      ]
     },
     "execution_count": 102,
     "metadata": {},
     "output_type": "execute_result"
    }
   ],
   "source": [
    "df [ df[\"Weight\"] > upper1].count()"
   ]
  },
  {
   "cell_type": "code",
   "execution_count": 100,
   "id": "c5aa5b30",
   "metadata": {},
   "outputs": [
    {
     "data": {
      "image/png": "[encoded data removed]",
      "text/plain": [
       "<Figure size 640x480 with 1 Axes>"
      ]
     },
     "metadata": {},
     "output_type": "display_data"
    }
   ],
   "source": [
    "plt.boxplot(df[\"Weight\"])\n",
    "plt.show()"
   ]
  },
  {
   "cell_type": "code",
   "execution_count": 103,
   "id": "c28601bd",
   "metadata": {},
   "outputs": [
    {
     "data": {
      "text/plain": [
       "0        False\n",
       "1        False\n",
       "2        False\n",
       "3        False\n",
       "4        False\n",
       "         ...  \n",
       "24995    False\n",
       "24996    False\n",
       "24997    False\n",
       "24998    False\n",
       "24999    False\n",
       "Length: 25000, dtype: bool"
      ]
     },
     "execution_count": 103,
     "metadata": {},
     "output_type": "execute_result"
    }
   ],
   "source": [
    "( df[\"Weight\"] < lower1) | (df[\"Height\"] > upper1)"
   ]
  },
  {
   "cell_type": "code",
   "execution_count": 104,
   "id": "502bf191",
   "metadata": {},
   "outputs": [],
   "source": [
    "c1 = ( df[\"Weight\"] < lower1) | (df[\"Height\"] > upper1)"
   ]
  },
  {
   "cell_type": "code",
   "execution_count": 105,
   "id": "bb0c73ca",
   "metadata": {},
   "outputs": [
    {
     "data": {
      "text/html": [
       "<div>\n",
       "<style scoped>\n",
       "    .dataframe tbody tr th:only-of-type {\n",
       "        vertical-align: middle;\n",
       "    }\n",
       "\n",
       "    .dataframe tbody tr th {\n",
       "        vertical-align: top;\n",
       "    }\n",
       "\n",
       "    .dataframe thead th {\n",
       "        text-align: right;\n",
       "    }\n",
       "</style>\n",
       "<table border=\"1\" class=\"dataframe\">\n",
       "  <thead>\n",
       "    <tr style=\"text-align: right;\">\n",
       "      <th></th>\n",
       "      <th>Height</th>\n",
       "      <th>Weight</th>\n",
       "    </tr>\n",
       "  </thead>\n",
       "  <tbody>\n",
       "    <tr>\n",
       "      <th>249</th>\n",
       "      <td>65.93895</td>\n",
       "      <td>84.35980</td>\n",
       "    </tr>\n",
       "    <tr>\n",
       "      <th>727</th>\n",
       "      <td>63.12550</td>\n",
       "      <td>83.08527</td>\n",
       "    </tr>\n",
       "    <tr>\n",
       "      <th>1432</th>\n",
       "      <td>64.87469</td>\n",
       "      <td>90.29334</td>\n",
       "    </tr>\n",
       "    <tr>\n",
       "      <th>2009</th>\n",
       "      <td>64.01976</td>\n",
       "      <td>90.91793</td>\n",
       "    </tr>\n",
       "    <tr>\n",
       "      <th>2485</th>\n",
       "      <td>63.19370</td>\n",
       "      <td>90.67840</td>\n",
       "    </tr>\n",
       "    <tr>\n",
       "      <th>2651</th>\n",
       "      <td>60.61265</td>\n",
       "      <td>88.04646</td>\n",
       "    </tr>\n",
       "    <tr>\n",
       "      <th>3515</th>\n",
       "      <td>63.96935</td>\n",
       "      <td>84.86345</td>\n",
       "    </tr>\n",
       "    <tr>\n",
       "      <th>5366</th>\n",
       "      <td>66.64317</td>\n",
       "      <td>86.98200</td>\n",
       "    </tr>\n",
       "    <tr>\n",
       "      <th>5705</th>\n",
       "      <td>62.87732</td>\n",
       "      <td>86.66900</td>\n",
       "    </tr>\n",
       "    <tr>\n",
       "      <th>5841</th>\n",
       "      <td>62.34907</td>\n",
       "      <td>92.08858</td>\n",
       "    </tr>\n",
       "    <tr>\n",
       "      <th>6256</th>\n",
       "      <td>67.66363</td>\n",
       "      <td>91.26068</td>\n",
       "    </tr>\n",
       "    <tr>\n",
       "      <th>6347</th>\n",
       "      <td>64.51185</td>\n",
       "      <td>86.49925</td>\n",
       "    </tr>\n",
       "    <tr>\n",
       "      <th>7320</th>\n",
       "      <td>65.36397</td>\n",
       "      <td>88.81051</td>\n",
       "    </tr>\n",
       "    <tr>\n",
       "      <th>7417</th>\n",
       "      <td>64.55084</td>\n",
       "      <td>90.03145</td>\n",
       "    </tr>\n",
       "    <tr>\n",
       "      <th>8124</th>\n",
       "      <td>64.84131</td>\n",
       "      <td>91.80850</td>\n",
       "    </tr>\n",
       "    <tr>\n",
       "      <th>8150</th>\n",
       "      <td>65.97774</td>\n",
       "      <td>91.25752</td>\n",
       "    </tr>\n",
       "    <tr>\n",
       "      <th>8317</th>\n",
       "      <td>65.00921</td>\n",
       "      <td>84.26295</td>\n",
       "    </tr>\n",
       "    <tr>\n",
       "      <th>8414</th>\n",
       "      <td>66.49187</td>\n",
       "      <td>90.16983</td>\n",
       "    </tr>\n",
       "    <tr>\n",
       "      <th>10240</th>\n",
       "      <td>61.93152</td>\n",
       "      <td>85.29040</td>\n",
       "    </tr>\n",
       "    <tr>\n",
       "      <th>10477</th>\n",
       "      <td>64.77966</td>\n",
       "      <td>89.64885</td>\n",
       "    </tr>\n",
       "    <tr>\n",
       "      <th>11451</th>\n",
       "      <td>67.48496</td>\n",
       "      <td>91.91782</td>\n",
       "    </tr>\n",
       "    <tr>\n",
       "      <th>11485</th>\n",
       "      <td>68.48521</td>\n",
       "      <td>90.53995</td>\n",
       "    </tr>\n",
       "    <tr>\n",
       "      <th>12446</th>\n",
       "      <td>64.74007</td>\n",
       "      <td>87.37910</td>\n",
       "    </tr>\n",
       "    <tr>\n",
       "      <th>12699</th>\n",
       "      <td>66.95170</td>\n",
       "      <td>91.22631</td>\n",
       "    </tr>\n",
       "    <tr>\n",
       "      <th>12731</th>\n",
       "      <td>62.39800</td>\n",
       "      <td>89.19710</td>\n",
       "    </tr>\n",
       "    <tr>\n",
       "      <th>13706</th>\n",
       "      <td>67.88128</td>\n",
       "      <td>91.79628</td>\n",
       "    </tr>\n",
       "    <tr>\n",
       "      <th>14106</th>\n",
       "      <td>61.90725</td>\n",
       "      <td>78.56785</td>\n",
       "    </tr>\n",
       "    <tr>\n",
       "      <th>14398</th>\n",
       "      <td>65.39821</td>\n",
       "      <td>90.24255</td>\n",
       "    </tr>\n",
       "    <tr>\n",
       "      <th>15005</th>\n",
       "      <td>65.47213</td>\n",
       "      <td>83.33859</td>\n",
       "    </tr>\n",
       "    <tr>\n",
       "      <th>16552</th>\n",
       "      <td>65.52770</td>\n",
       "      <td>90.67684</td>\n",
       "    </tr>\n",
       "    <tr>\n",
       "      <th>17265</th>\n",
       "      <td>62.95082</td>\n",
       "      <td>89.82395</td>\n",
       "    </tr>\n",
       "    <tr>\n",
       "      <th>17598</th>\n",
       "      <td>66.52168</td>\n",
       "      <td>90.28757</td>\n",
       "    </tr>\n",
       "    <tr>\n",
       "      <th>19203</th>\n",
       "      <td>63.86542</td>\n",
       "      <td>88.16618</td>\n",
       "    </tr>\n",
       "    <tr>\n",
       "      <th>19472</th>\n",
       "      <td>62.50167</td>\n",
       "      <td>91.57279</td>\n",
       "    </tr>\n",
       "    <tr>\n",
       "      <th>19854</th>\n",
       "      <td>64.74935</td>\n",
       "      <td>89.95606</td>\n",
       "    </tr>\n",
       "    <tr>\n",
       "      <th>21101</th>\n",
       "      <td>65.84174</td>\n",
       "      <td>85.98927</td>\n",
       "    </tr>\n",
       "    <tr>\n",
       "      <th>22282</th>\n",
       "      <td>64.14250</td>\n",
       "      <td>91.37972</td>\n",
       "    </tr>\n",
       "    <tr>\n",
       "      <th>22738</th>\n",
       "      <td>62.87593</td>\n",
       "      <td>87.80417</td>\n",
       "    </tr>\n",
       "    <tr>\n",
       "      <th>22945</th>\n",
       "      <td>61.92639</td>\n",
       "      <td>78.01476</td>\n",
       "    </tr>\n",
       "    <tr>\n",
       "      <th>24610</th>\n",
       "      <td>66.56804</td>\n",
       "      <td>82.38298</td>\n",
       "    </tr>\n",
       "  </tbody>\n",
       "</table>\n",
       "</div>"
      ],
      "text/plain": [
       "         Height    Weight\n",
       "249    65.93895  84.35980\n",
       "727    63.12550  83.08527\n",
       "1432   64.87469  90.29334\n",
       "2009   64.01976  90.91793\n",
       "2485   63.19370  90.67840\n",
       "2651   60.61265  88.04646\n",
       "3515   63.96935  84.86345\n",
       "5366   66.64317  86.98200\n",
       "5705   62.87732  86.66900\n",
       "5841   62.34907  92.08858\n",
       "6256   67.66363  91.26068\n",
       "6347   64.51185  86.49925\n",
       "7320   65.36397  88.81051\n",
       "7417   64.55084  90.03145\n",
       "8124   64.84131  91.80850\n",
       "8150   65.97774  91.25752\n",
       "8317   65.00921  84.26295\n",
       "8414   66.49187  90.16983\n",
       "10240  61.93152  85.29040\n",
       "10477  64.77966  89.64885\n",
       "11451  67.48496  91.91782\n",
       "11485  68.48521  90.53995\n",
       "12446  64.74007  87.37910\n",
       "12699  66.95170  91.22631\n",
       "12731  62.39800  89.19710\n",
       "13706  67.88128  91.79628\n",
       "14106  61.90725  78.56785\n",
       "14398  65.39821  90.24255\n",
       "15005  65.47213  83.33859\n",
       "16552  65.52770  90.67684\n",
       "17265  62.95082  89.82395\n",
       "17598  66.52168  90.28757\n",
       "19203  63.86542  88.16618\n",
       "19472  62.50167  91.57279\n",
       "19854  64.74935  89.95606\n",
       "21101  65.84174  85.98927\n",
       "22282  64.14250  91.37972\n",
       "22738  62.87593  87.80417\n",
       "22945  61.92639  78.01476\n",
       "24610  66.56804  82.38298"
      ]
     },
     "execution_count": 105,
     "metadata": {},
     "output_type": "execute_result"
    }
   ],
   "source": [
    "df[c1]"
   ]
  },
  {
   "cell_type": "code",
   "execution_count": 106,
   "id": "4d0bfee9",
   "metadata": {},
   "outputs": [
    {
     "data": {
      "text/plain": [
       "Height    40\n",
       "Weight    40\n",
       "dtype: int64"
      ]
     },
     "execution_count": 106,
     "metadata": {},
     "output_type": "execute_result"
    }
   ],
   "source": [
    "df[c1].count()"
   ]
  },
  {
   "cell_type": "code",
   "execution_count": null,
   "id": "6522a9a0",
   "metadata": {},
   "outputs": [],
   "source": []
  }
 ],
 "metadata": {
  "kernelspec": {
   "display_name": "Python 3 (ipykernel)",
   "language": "python",
   "name": "python3"
  },
  "language_info": {
   "codemirror_mode": {
    "name": "ipython",
    "version": 3
   },
   "file_extension": ".py",
   "mimetype": "text/x-python",
   "name": "python",
   "nbconvert_exporter": "python",
   "pygments_lexer": "ipython3",
   "version": "3.9.13"
  }
 },
 "nbformat": 4,
 "nbformat_minor": 5
}
